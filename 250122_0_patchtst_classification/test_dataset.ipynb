{
 "cells": [
  {
   "cell_type": "code",
   "execution_count": 16,
   "metadata": {},
   "outputs": [],
   "source": [
    "from datasets import load_dataset\n",
    "import nibabel as nib\n",
    "from nilearn.datasets import fetch_abide_pcp\n",
    "import numpy as np\n",
    "import torch\n",
    "from tqdm import tqdm\n",
    "import transformers"
   ]
  },
  {
   "cell_type": "code",
   "execution_count": 17,
   "metadata": {},
   "outputs": [],
   "source": [
    "def transform_images(batch):\n",
    "    time_series_lst = [np.loadtxt(\n",
    "        time_series_path, dtype=np.float32\n",
    "    ) for time_series_path in batch['time_series_path']] # bs x sequence_length x num_input_channels\n",
    "\n",
    "    bs = len(time_series_lst)\n",
    "    sequence_length = 512\n",
    "    num_input_channels = time_series_lst[0].shape[-1]\n",
    "\n",
    "    mask = np.zeros((bs, sequence_length, num_input_channels), dtype=np.bool_)\n",
    "\n",
    "    for i in range(len(time_series_lst)):\n",
    "        time_series = time_series_lst[i]\n",
    "        # truncate\n",
    "        if time_series.shape[0] > sequence_length:\n",
    "            time_series = time_series[:sequence_length]\n",
    "        # mask\n",
    "        mask[i, :time_series.shape[0]] = 1\n",
    "        # pad\n",
    "        time_series_lst[i] = np.pad(\n",
    "            time_series, ((0, sequence_length - time_series.shape[0]), (0, 0))\n",
    "        )\n",
    "    time_series_lst = np.stack(time_series_lst, axis=0)\n",
    "\n",
    "    batch['time_series'] = torch.from_numpy(time_series_lst)\n",
    "    batch['mask'] = torch.from_numpy(mask)\n",
    "    return batch"
   ]
  },
  {
   "cell_type": "code",
   "execution_count": 18,
   "metadata": {},
   "outputs": [
    {
     "name": "stdout",
     "output_type": "stream",
     "text": [
      "Dataset({\n",
      "    features: ['time_series_path', 'label'],\n",
      "    num_rows: 871\n",
      "})\n"
     ]
    },
    {
     "data": {
      "text/plain": [
       "{'time_series_path': '/bigdata/yanting/datasets/nilearn_data/ABIDE_pcp/cpac/filt_noglobal/Pitt_0050003_rois_cc200.1D',\n",
       " 'label': 1,\n",
       " 'time_series': tensor([[ 24.5603, -18.4077,  38.4479,  ...,   7.1485, -16.7013,  -9.0400],\n",
       "         [ 12.4324, -24.2256,  32.7221,  ...,   6.9159, -18.8162, -16.0795],\n",
       "         [-15.6283, -26.6576,   4.8220,  ...,   1.2626, -17.5656, -29.4624],\n",
       "         ...,\n",
       "         [  0.0000,   0.0000,   0.0000,  ...,   0.0000,   0.0000,   0.0000],\n",
       "         [  0.0000,   0.0000,   0.0000,  ...,   0.0000,   0.0000,   0.0000],\n",
       "         [  0.0000,   0.0000,   0.0000,  ...,   0.0000,   0.0000,   0.0000]]),\n",
       " 'mask': tensor([[ True,  True,  True,  ...,  True,  True,  True],\n",
       "         [ True,  True,  True,  ...,  True,  True,  True],\n",
       "         [ True,  True,  True,  ...,  True,  True,  True],\n",
       "         ...,\n",
       "         [False, False, False,  ..., False, False, False],\n",
       "         [False, False, False,  ..., False, False, False],\n",
       "         [False, False, False,  ..., False, False, False]])}"
      ]
     },
     "execution_count": 18,
     "metadata": {},
     "output_type": "execute_result"
    }
   ],
   "source": [
    "ds = load_dataset(\n",
    "    path='./dataset_loading_scripts/abide.py',\n",
    "    data_dir='/bigdata/yanting/datasets/nilearn_data',\n",
    "    split='train',\n",
    "    trust_remote_code=True\n",
    ")\n",
    "ds.set_transform(transform_images)\n",
    "print(ds)\n",
    "ds[0]"
   ]
  },
  {
   "cell_type": "code",
   "execution_count": null,
   "metadata": {},
   "outputs": [],
   "source": []
  },
  {
   "cell_type": "markdown",
   "metadata": {},
   "source": [
    "## 0"
   ]
  },
  {
   "cell_type": "code",
   "execution_count": 2,
   "metadata": {},
   "outputs": [],
   "source": [
    "data_dir = '/bigdata/yanting/datasets/nilearn_data'"
   ]
  },
  {
   "cell_type": "code",
   "execution_count": 3,
   "metadata": {},
   "outputs": [
    {
     "name": "stderr",
     "output_type": "stream",
     "text": [
      "100%|██████████| 871/871 [00:00<00:00, 1738809.51it/s]\n",
      "100%|██████████| 871/871 [00:03<00:00, 246.71it/s]\n"
     ]
    }
   ],
   "source": [
    "data = fetch_abide_pcp(\n",
    "    data_dir=data_dir,\n",
    "    pipeline='cpac',\n",
    "    band_pass_filtering=True,\n",
    "    global_signal_regression=False,\n",
    "    derivatives=['func_preproc'],\n",
    "    verbose=0\n",
    ")\n",
    "image_path_lst = data['func_preproc']\n",
    "\n",
    "time_series_path_lst = []\n",
    "for image_path in tqdm(image_path_lst):\n",
    "    time_series_path_lst.append(image_path.replace(\n",
    "        'func_preproc.nii.gz', 'rois_cc200.1D'\n",
    "    ))\n",
    "\n",
    "time_series_shape_lst = []\n",
    "for time_series_path in tqdm(time_series_path_lst):\n",
    "    time_series = np.loadtxt(time_series_path)\n",
    "    time_series_shape_lst.append(time_series.shape)"
   ]
  },
  {
   "cell_type": "code",
   "execution_count": 18,
   "metadata": {},
   "outputs": [
    {
     "name": "stdout",
     "output_type": "stream",
     "text": [
      "[ 78 200] 25\n",
      "[116 200] 119\n",
      "[124 200] 4\n",
      "[146 200] 59\n",
      "[152 200] 29\n",
      "[176 200] 211\n",
      "[196 200] 129\n",
      "[202 200] 1\n",
      "[206 200] 28\n",
      "[232 200] 1\n",
      "[236 200] 86\n",
      "[246 200] 56\n",
      "[296 200] 120\n",
      "[316 200] 3\n"
     ]
    }
   ],
   "source": [
    "uniques, counts = np.unique(time_series_shape_lst, axis=0, return_counts=True)\n",
    "for unique, count in zip(uniques, counts):\n",
    "    print(unique, count)"
   ]
  },
  {
   "cell_type": "code",
   "execution_count": 26,
   "metadata": {},
   "outputs": [
    {
     "name": "stderr",
     "output_type": "stream",
     "text": [
      "100%|██████████| 871/871 [00:00<00:00, 1664.23it/s]\n"
     ]
    }
   ],
   "source": [
    "pixdim_lst = []\n",
    "for image_path in tqdm(image_path_lst):\n",
    "    img = nib.load(image_path)\n",
    "    pixdim = img.header['pixdim'][1:5]\n",
    "    pixdim = np.round(pixdim, 2)\n",
    "    pixdim_lst.append(pixdim)"
   ]
  },
  {
   "cell_type": "code",
   "execution_count": 27,
   "metadata": {},
   "outputs": [
    {
     "name": "stdout",
     "output_type": "stream",
     "text": [
      "[3.  3.  3.  1.5] 81\n",
      "[3.   3.   3.   1.65] 25\n",
      "[3.   3.   3.   1.66] 1\n",
      "[3.   3.   3.   1.67] 30\n",
      "[3. 3. 3. 2.] 519\n",
      "[3.  3.  3.  2.2] 26\n",
      "[3.  3.  3.  2.5] 58\n",
      "[3. 3. 3. 3.] 131\n"
     ]
    }
   ],
   "source": [
    "uniques, counts = np.unique(pixdim_lst, axis=0, return_counts=True)\n",
    "for unique, count in zip(uniques, counts):\n",
    "    print(unique, count)"
   ]
  }
 ],
 "metadata": {
  "kernelspec": {
   "display_name": "base",
   "language": "python",
   "name": "python3"
  },
  "language_info": {
   "codemirror_mode": {
    "name": "ipython",
    "version": 3
   },
   "file_extension": ".py",
   "mimetype": "text/x-python",
   "name": "python",
   "nbconvert_exporter": "python",
   "pygments_lexer": "ipython3",
   "version": "3.11.11"
  }
 },
 "nbformat": 4,
 "nbformat_minor": 2
}
