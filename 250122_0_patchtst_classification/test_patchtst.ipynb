{
 "cells": [
  {
   "cell_type": "code",
   "execution_count": 1,
   "metadata": {},
   "outputs": [
    {
     "name": "stderr",
     "output_type": "stream",
     "text": [
      "/opt/conda/lib/python3.11/site-packages/tqdm/auto.py:21: TqdmWarning: IProgress not found. Please update jupyter and ipywidgets. See https://ipywidgets.readthedocs.io/en/stable/user_install.html\n",
      "  from .autonotebook import tqdm as notebook_tqdm\n"
     ]
    }
   ],
   "source": [
    "import torch\n",
    "import transformers"
   ]
  },
  {
   "cell_type": "code",
   "execution_count": 4,
   "metadata": {},
   "outputs": [
    {
     "name": "stdout",
     "output_type": "stream",
     "text": [
      "loss: torch.Size([])\n",
      "prediction_logits: torch.Size([1, 2])\n"
     ]
    }
   ],
   "source": [
    "# classification task with two input channels and 3 classes\n",
    "config = transformers.PatchTSTConfig(\n",
    "    num_input_channels=200,\n",
    "    num_targets=2,\n",
    "    context_length=512,\n",
    "    patch_length=12,\n",
    "    stride=12,\n",
    "    use_cls_token=True,\n",
    ")\n",
    "model = transformers.PatchTSTForClassification(config)\n",
    "\n",
    "# during inference, one only provides past values\n",
    "past_values = torch.randn(1, 512, 200)\n",
    "target_values = torch.tensor([0])\n",
    "outputs = model(past_values=past_values, target_values=target_values)\n",
    "for k, v in outputs.items():\n",
    "    print(f\"{k}: {v.shape}\")"
   ]
  },
  {
   "cell_type": "code",
   "execution_count": 4,
   "metadata": {},
   "outputs": [
    {
     "name": "stdout",
     "output_type": "stream",
     "text": [
      "last_hidden_state: torch.Size([1, 200, 502, 128])\n",
      "loc: torch.Size([1, 1, 200])\n",
      "scale: torch.Size([1, 1, 200])\n",
      "patch_input: torch.Size([1, 200, 501, 12])\n"
     ]
    }
   ],
   "source": [
    "config = transformers.PatchTSTConfig(\n",
    "    num_input_channels=200,\n",
    "    num_targets=3,\n",
    "    context_length=512,\n",
    "    patch_length=12,\n",
    "    stride=12,\n",
    "    use_cls_token=True,\n",
    ")\n",
    "model = transformers.PatchTSTModel(config)\n",
    "\n",
    "# during inference, one only provides past values\n",
    "past_values = torch.randn(1, 512, 200)\n",
    "outputs = model(past_values=past_values)\n",
    "for k, v in outputs.items():\n",
    "    print(f\"{k}: {v.shape}\")"
   ]
  }
 ],
 "metadata": {
  "kernelspec": {
   "display_name": "base",
   "language": "python",
   "name": "python3"
  },
  "language_info": {
   "codemirror_mode": {
    "name": "ipython",
    "version": 3
   },
   "file_extension": ".py",
   "mimetype": "text/x-python",
   "name": "python",
   "nbconvert_exporter": "python",
   "pygments_lexer": "ipython3",
   "version": "3.11.11"
  }
 },
 "nbformat": 4,
 "nbformat_minor": 2
}
